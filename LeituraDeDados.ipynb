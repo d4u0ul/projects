{
  "nbformat": 4,
  "nbformat_minor": 0,
  "metadata": {
    "colab": {
      "name": "LeituraDeDados.ipynb",
      "provenance": [],
      "collapsed_sections": [
        "laW3FuIDzH4D",
        "RXQCVyHR8nGE",
        "6mCucp4A89-Y",
        "aOY8hb2_br9m",
        "wCqqWPSGdV-o"
      ],
      "include_colab_link": true
    },
    "kernelspec": {
      "display_name": "Python 3",
      "name": "python3"
    },
    "language_info": {
      "name": "python"
    }
  },
  "cells": [
    {
      "cell_type": "markdown",
      "metadata": {
        "id": "view-in-github",
        "colab_type": "text"
      },
      "source": [
        "<a href=\"https://colab.research.google.com/github/d4u0ul/projects/blob/master/LeituraDeDados.ipynb\" target=\"_parent\"><img src=\"https://colab.research.google.com/assets/colab-badge.svg\" alt=\"Open In Colab\"/></a>"
      ]
    },
    {
      "cell_type": "markdown",
      "metadata": {
        "id": "laW3FuIDzH4D"
      },
      "source": [
        "# **Upload dos Arquivos**"
      ]
    },
    {
      "cell_type": "code",
      "metadata": {
        "id": "bxM1Vp1CIItZ"
      },
      "source": [
        "from google.colab import drive\n",
        "drive.mount('/content/drive')"
      ],
      "execution_count": null,
      "outputs": []
    },
    {
      "cell_type": "markdown",
      "metadata": {
        "id": "RXQCVyHR8nGE"
      },
      "source": [
        "# ***Imports***"
      ]
    },
    {
      "cell_type": "code",
      "metadata": {
        "id": "gFHdM1VAzHKB"
      },
      "source": [
        "import pandas as pd\n",
        "import matplotlib.pyplot as plt\n",
        "import seaborn as sns"
      ],
      "execution_count": null,
      "outputs": []
    },
    {
      "cell_type": "markdown",
      "metadata": {
        "id": "6mCucp4A89-Y"
      },
      "source": [
        "# ***Codigo***"
      ]
    },
    {
      "cell_type": "code",
      "metadata": {
        "id": "bEXzn-Ip8qjZ"
      },
      "source": [
        "df = pd.read_csv('/content/drive/Shareddrives/Mineração de Dados/expFinal.csv',sep=';',na_values= '?')"
      ],
      "execution_count": null,
      "outputs": []
    },
    {
      "cell_type": "code",
      "metadata": {
        "id": "Eu8b7_Lb5pdW"
      },
      "source": [
        "df.columns = [\"idUsrCrsExp\",\"userProfile_Id\",\"discriminator\",\"taskValidationDescription\",\"course_Id\",\"challenge_Id\",\"task_Id\",\"taskOrder\",\"ordemTsk\",\"isdone\",\"isRight\",\"startUsrCrsExp\",\"startValid\",\"tmpInicio\",\"tmpFim\",\"tempoInteracao\"]\n"
      ],
      "execution_count": null,
      "outputs": []
    },
    {
      "cell_type": "code",
      "metadata": {
        "id": "6hvPJb8FFjJs"
      },
      "source": [
        "df.head(1)"
      ],
      "execution_count": null,
      "outputs": []
    },
    {
      "cell_type": "code",
      "metadata": {
        "id": "rQJeCfZ0Q044"
      },
      "source": [
        "df.describe()"
      ],
      "execution_count": null,
      "outputs": []
    },
    {
      "cell_type": "code",
      "metadata": {
        "id": "kKHaVXYCBYUZ"
      },
      "source": [
        "sns.set_theme(style=\"darkgrid\")"
      ],
      "execution_count": null,
      "outputs": []
    },
    {
      "cell_type": "code",
      "metadata": {
        "id": "1HgR8_GqGdOX"
      },
      "source": [
        "Erros = df.query('isRight == 0')\n",
        "Acertos = df.query('isRight == 1')"
      ],
      "execution_count": null,
      "outputs": []
    },
    {
      "cell_type": "code",
      "metadata": {
        "id": "12TbkfJy0g5Y"
      },
      "source": [
        "# Quantidade de tentativas por tarefa\n",
        "tentativas = df.groupby('task_Id')['isRight']\n",
        "grp = pd.DataFrame(tentativas.size().reset_index(name = \"isRight\"))\n",
        "grp"
      ],
      "execution_count": null,
      "outputs": []
    },
    {
      "cell_type": "markdown",
      "metadata": {
        "id": "nmtdvlplG5I3"
      },
      "source": [
        "### Graficos Atualizados"
      ]
    },
    {
      "cell_type": "code",
      "metadata": {
        "id": "ZM_iONlXjD9q"
      },
      "source": [
        "# Quantidades de Erro e Acerto Por atividade (Amostra)\n",
        "gr = df.groupby(['task_Id','isRight'])['tempoInteracao'].count()\n",
        "gr = gr.reset_index(name = \"tempoInteracao\")\n",
        "gr.head(10)"
      ],
      "execution_count": null,
      "outputs": []
    },
    {
      "cell_type": "code",
      "metadata": {
        "id": "R6cfdGr8LALL"
      },
      "source": [
        "sns.displot(df, x=\"task_Id\", multiple=\"dodge\")"
      ],
      "execution_count": null,
      "outputs": []
    },
    {
      "cell_type": "code",
      "metadata": {
        "id": "-R4l_SyB4chK"
      },
      "source": [
        "# Densidade da Quantidade de tentativas \n",
        "sns.displot(grp,x= \"isRight\",kind=\"kde\",fill = \"true\")"
      ],
      "execution_count": null,
      "outputs": []
    },
    {
      "cell_type": "code",
      "metadata": {
        "id": "mnNwXLRjcjkX"
      },
      "source": [
        "sns.displot(df, x=\"tempoInteracao\", hue=\"isRight\", kind=\"kde\", fill=True , cut=0)"
      ],
      "execution_count": null,
      "outputs": []
    },
    {
      "cell_type": "code",
      "metadata": {
        "id": "OV-UjVeInG_f"
      },
      "source": [
        "# Dispersão da quantidade de tentativas\n",
        "sns.scatterplot(x ='task_Id', y=\"isRight\",data = grp)\n",
        "#Mostra que ao inicio existe uma maior quantidade de tentativas "
      ],
      "execution_count": null,
      "outputs": []
    },
    {
      "cell_type": "code",
      "metadata": {
        "id": "BhfEz2scSgXU"
      },
      "source": [
        "sns.relplot(x=\"task_Id\", y=\"tempoInteracao\", hue=\"isRight\", data=df);"
      ],
      "execution_count": null,
      "outputs": []
    },
    {
      "cell_type": "markdown",
      "metadata": {
        "id": "aOY8hb2_br9m"
      },
      "source": [
        "# ***Graficos Base de dados ***"
      ]
    },
    {
      "cell_type": "code",
      "metadata": {
        "id": "OiJIuklxccrd"
      },
      "source": [
        "#df=df.dropna()"
      ],
      "execution_count": null,
      "outputs": []
    },
    {
      "cell_type": "code",
      "metadata": {
        "id": "sF-2TiGeyczN"
      },
      "source": [
        "#erros\n",
        "#dummy = old_df.query('tskvalIsRight == 0')"
      ],
      "execution_count": null,
      "outputs": []
    },
    {
      "cell_type": "markdown",
      "metadata": {
        "id": "Y1enkTjVwi-_"
      },
      "source": [
        "### ***Histograma***"
      ]
    },
    {
      "cell_type": "code",
      "metadata": {
        "id": "gI8O-mckQdw4"
      },
      "source": [
        "sns.displot(df, x=\"task_Id\", hue=\"isRight\", element=\"step\",bins=15,label='Acerto')"
      ],
      "execution_count": null,
      "outputs": []
    },
    {
      "cell_type": "markdown",
      "metadata": {
        "id": "grsIKsZyFDdf"
      },
      "source": [
        "### ***Qtdes de erros e acertos por Tasks***"
      ]
    },
    {
      "cell_type": "code",
      "metadata": {
        "id": "9HVuw03Zvyig"
      },
      "source": [
        "plt.figure(figsize=(10, 6))\n",
        "df[df['isRight'] == 1]['task_Id'].hist(alpha=0.7, color='blue', bins=12, label='Acerto')\n",
        "df[df['isRight'] == 0]['task_Id'].hist(alpha=0.5, color='green', bins=12, label='Erro')\n",
        "plt.legend()\n",
        "plt.xlabel('task_Id')\n",
        "plt.ylabel('quantidade')\n",
        "plt.show()"
      ],
      "execution_count": null,
      "outputs": []
    },
    {
      "cell_type": "markdown",
      "metadata": {
        "id": "clWAdZDbFPZP"
      },
      "source": [
        "### ***Qtdes de erros e acertos por Challenges***"
      ]
    },
    {
      "cell_type": "code",
      "metadata": {
        "id": "v_tbqHIFScE5"
      },
      "source": [
        "# sns.displot(old_df, x=\"TimeInMinutes\", hue=\"IsRight\", kind=\"kde\", fill=True , cut=0)"
      ],
      "execution_count": null,
      "outputs": []
    },
    {
      "cell_type": "code",
      "metadata": {
        "id": "V1mcQXrRkYK4"
      },
      "source": [
        "plt.figure(figsize=(10, 6))\n",
        "df[df['isRight'] == 1]['challenge_Id'].hist(alpha=0.5, color='blue', bins=30, label='Acerto')\n",
        "df[df['isRight'] == 0]['challenge_Id'].hist(alpha=0.7, color='green', bins=30, label='Erro')\n",
        "plt.legend()\n",
        "plt.xlabel('challenge_Id')\n",
        "plt.ylabel('quantidade')\n",
        "plt.show()"
      ],
      "execution_count": null,
      "outputs": []
    },
    {
      "cell_type": "markdown",
      "metadata": {
        "id": "sXQ_g_auFeLu"
      },
      "source": [
        "### ***Qtdes de erros e acertos por Courses***"
      ]
    },
    {
      "cell_type": "code",
      "metadata": {
        "id": "7jhBRHKpwGFM"
      },
      "source": [
        "plt.figure(figsize=(10, 6))\n",
        "df[df['isRight'] == 1]['course_Id'].hist(alpha=0.9, color='blue', bins=15, label='Acerto')\n",
        "df[df['isRight'] == 0]['course_Id'].hist(alpha=0.9, color='pink', bins=15, label='Erro')\n",
        "plt.legend()\n",
        "plt.xlabel('course_Id')\n",
        "plt.ylabel('Quantidade')\n",
        "plt.show()"
      ],
      "execution_count": null,
      "outputs": []
    },
    {
      "cell_type": "markdown",
      "metadata": {
        "id": "dbrlWxDHw71j"
      },
      "source": [
        "### ***Dispersão***"
      ]
    },
    {
      "cell_type": "code",
      "metadata": {
        "id": "Dab9ZeOXEs-F"
      },
      "source": [
        "sns.scatterplot(x=\"isRight\", y=\"task_Id\", data = df)"
      ],
      "execution_count": null,
      "outputs": []
    },
    {
      "cell_type": "markdown",
      "metadata": {
        "id": "ZXL03TCy4aOS"
      },
      "source": [
        "### ***BoxPlot***"
      ]
    },
    {
      "cell_type": "code",
      "metadata": {
        "id": "hXV4_4Z-4igh"
      },
      "source": [
        "def countIntervalos(valorInicial, valorFinal):\n",
        "  new_df = df.drop(columns='isRight')\n",
        "  dfIntervalo = new_df[new_df['course_Id'] >= valorInicial]\n",
        "  intervalo = len(dfIntervalo[new_df['course_Id'] <= valorFinal])\n",
        "  return intervalo\n",
        "\n",
        "  "
      ],
      "execution_count": null,
      "outputs": []
    },
    {
      "cell_type": "code",
      "metadata": {
        "id": "eYCtrqly6UZE"
      },
      "source": [
        "#curso.head()"
      ],
      "execution_count": null,
      "outputs": []
    },
    {
      "cell_type": "code",
      "metadata": {
        "id": "pM-OZ5434kG-"
      },
      "source": [
        "primeiroIntervalo = countIntervalos(35, 59)\n",
        "primeiroIntervalo\n",
        "segundoIntervalo = countIntervalos(28, 35)\n",
        "segundoIntervalo\n",
        "terceiroIntervalo = countIntervalos(22, 27)\n",
        "terceiroIntervalo\n",
        "quartoIntervalo = countIntervalos(11, 21)\n",
        "quartoIntervalo\n",
        "quintoIntervalo = countIntervalos(1, 8)\n",
        "quintoIntervalo"
      ],
      "execution_count": null,
      "outputs": []
    },
    {
      "cell_type": "code",
      "metadata": {
        "id": "sQQDydbt3aeT"
      },
      "source": [
        "df2 = pd.DataFrame({'contagem': [primeiroIntervalo, segundoIntervalo, terceiroIntervalo, quartoIntervalo, quintoIntervalo]})\n",
        "df2.index = ['35-59', '28-35', '22-27', '11-21', '1-8']\n",
        "df2"
      ],
      "execution_count": null,
      "outputs": []
    },
    {
      "cell_type": "code",
      "metadata": {
        "id": "5qQJpFqX7V5s"
      },
      "source": [
        "# cumsum(axis=None, skipna=True, *args, **kwargs) Return cumulative sum over a DataFrame or Series axis.\n",
        "df2['percentage'] = df2['contagem'].cumsum()/df2['contagem'].sum()*100\n",
        "df2"
      ],
      "execution_count": null,
      "outputs": []
    },
    {
      "cell_type": "code",
      "metadata": {
        "id": "Vx_iVVx9-bhs"
      },
      "source": [
        "df.describe()"
      ],
      "execution_count": null,
      "outputs": []
    },
    {
      "cell_type": "code",
      "metadata": {
        "id": "089JJeW178rp"
      },
      "source": [
        "sns.boxplot(x='isRight', y='course_Id', data=df)"
      ],
      "execution_count": null,
      "outputs": []
    },
    {
      "cell_type": "code",
      "metadata": {
        "id": "n82W1WVyAkIl"
      },
      "source": [
        "sns.boxplot(x='isRight', y='challenge_Id', data=df)"
      ],
      "execution_count": null,
      "outputs": []
    },
    {
      "cell_type": "code",
      "metadata": {
        "id": "kPoRp4Y4Awvj"
      },
      "source": [
        "sns.boxplot(x='isRight', y='task_Id', data=df)"
      ],
      "execution_count": null,
      "outputs": []
    },
    {
      "cell_type": "markdown",
      "metadata": {
        "id": "wCqqWPSGdV-o"
      },
      "source": [
        "#Algoritmo de classificação - ***Árvore de decisão***"
      ]
    },
    {
      "cell_type": "code",
      "metadata": {
        "id": "UY7ocSdbdUf1"
      },
      "source": [
        "import pandas as pd\n",
        "from sklearn.tree import DecisionTreeClassifier,export_graphviz\n",
        "from sklearn.model_selection import train_test_split\n",
        "from sklearn import metrics\n",
        "import numpy as np"
      ],
      "execution_count": null,
      "outputs": []
    },
    {
      "cell_type": "code",
      "metadata": {
        "id": "_-wWWhq9d9Ii"
      },
      "source": [
        "# Carregando a base de dados:\n",
        "\n",
        "dfTree = pd.read_csv('/content/drive/Shareddrives/Mineração de Dados/expFinal.csv',sep=';',na_values= '?')\n",
        "dfTree.columns = [\"idUsrCrsExp\",\"userProfile_Id\",\"discriminator\",\"taskValidationDescription\",\"course_Id\",\"challenge_Id\",\"task_Id\",\"taskOrder\",\"ordemTsk\",\"isdone\",\"isRight\",\"startUsrCrsExp\",\"startValid\",\"tmpInicio\",\"tmpFim\",\"tempoInteracao\"]\n",
        "dfTree.head()"
      ],
      "execution_count": null,
      "outputs": []
    },
    {
      "cell_type": "code",
      "metadata": {
        "id": "ITyBaXhFm1-Q"
      },
      "source": [
        "dfTree = dfTree[[\"userProfile_Id\",\"course_Id\",\"challenge_Id\",\"task_Id\",\"taskOrder\",\"isdone\",\"tempoInteracao\",\"isRight\"]]\n",
        "dfTree.head()"
      ],
      "execution_count": null,
      "outputs": []
    },
    {
      "cell_type": "code",
      "metadata": {
        "id": "siHDlQKceUXf"
      },
      "source": [
        "# Informaçoes sobre a base:\n",
        "dfTree.info()"
      ],
      "execution_count": null,
      "outputs": []
    },
    {
      "cell_type": "code",
      "metadata": {
        "id": "Lm0I4hn6ehru"
      },
      "source": [
        "# Dividindo os dados em treino e teste(30%):\n",
        "X_train, X_test, y_train, y_test = train_test_split(dfTree.drop('isRight',axis=1),dfTree['isRight'],test_size=0.3)"
      ],
      "execution_count": null,
      "outputs": []
    },
    {
      "cell_type": "code",
      "metadata": {
        "id": "DOeu4c0mfMv7"
      },
      "source": [
        "# Verificando as formas dos dados:\n",
        "X_train.shape,X_test.shape"
      ],
      "execution_count": null,
      "outputs": []
    },
    {
      "cell_type": "code",
      "metadata": {
        "id": "1ccg9SzYffEM"
      },
      "source": [
        "y_train.shape,y_test.shape"
      ],
      "execution_count": null,
      "outputs": []
    },
    {
      "cell_type": "code",
      "metadata": {
        "id": "suxz8gDpCgCl"
      },
      "source": [
        "#As tuplas são aleatórias\n",
        "y_test.head(5)"
      ],
      "execution_count": null,
      "outputs": []
    },
    {
      "cell_type": "code",
      "metadata": {
        "id": "RggF_JPaCLbT"
      },
      "source": [
        "#As tuplas são aleatórias\n",
        "y_train.head(5)"
      ],
      "execution_count": null,
      "outputs": []
    },
    {
      "cell_type": "code",
      "metadata": {
        "id": "TM0TgR5AfjNn"
      },
      "source": [
        "# Instânciando o objeto classificador:\n",
        "clf = DecisionTreeClassifier()"
      ],
      "execution_count": null,
      "outputs": []
    },
    {
      "cell_type": "markdown",
      "metadata": {
        "id": "Bc52BGyOftMA"
      },
      "source": [
        "### ***Treino Decisão***"
      ]
    },
    {
      "cell_type": "code",
      "metadata": {
        "id": "QLl3TjBPfxVx"
      },
      "source": [
        "# Treinando o modelo de arvore de decisão:\n",
        "clf = clf.fit(X_train,y_train)"
      ],
      "execution_count": null,
      "outputs": []
    },
    {
      "cell_type": "code",
      "metadata": {
        "id": "L5z9CWVjoWAZ"
      },
      "source": [
        "# Verificando as features mais importantes para o modelo treinado:\n",
        "clf.feature_importances_\n",
        "\n",
        "# O código acima nos retorna um array com o valor de importância na definição de cada variável:"
      ],
      "execution_count": null,
      "outputs": []
    },
    {
      "cell_type": "code",
      "metadata": {
        "id": "6cIzacw1oeSY"
      },
      "source": [
        "for feature,importancia in zip(df.columns,clf.feature_importances_):\n",
        "    print(\"{}:{}\".format(feature, importancia))"
      ],
      "execution_count": null,
      "outputs": []
    },
    {
      "cell_type": "code",
      "metadata": {
        "id": "5w2A7q7qq9IX"
      },
      "source": [
        "#traz a array da árvore\n",
        "resultado = clf.predict(X_test)\n",
        "resultado"
      ],
      "execution_count": null,
      "outputs": []
    },
    {
      "cell_type": "markdown",
      "metadata": {
        "id": "piBgpN2Z5s-_"
      },
      "source": [
        "## ***Gerando um report de classificação***"
      ]
    },
    {
      "cell_type": "markdown",
      "metadata": {
        "id": "leSX99Y59IyN"
      },
      "source": [
        "Primeiro fazemos a matriz de confusão\n",
        "![image.png](data:image/png;base64,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)"
      ]
    },
    {
      "cell_type": "markdown",
      "metadata": {
        "id": "dibmbwQe9gsO"
      },
      "source": [
        "**Verdadeiros Positivos:** classificação correta da classe Positivo;\n",
        "\n",
        "**Falsos Negativos:** erro em que o modelo previu a classe Negativo quando o valor real era classe Positivo;\n",
        "\n",
        "**Falsos Positivos:** erro em que o modelo previu a classe Positivo quando o valor real era classe Negativo;\n",
        "\n",
        "**Verdadeiros Negativos:** classificação correta da classe Negativo."
      ]
    },
    {
      "cell_type": "markdown",
      "metadata": {
        "id": "Lymwp890BfFw"
      },
      "source": [
        "![image.png](data:image/png;base64,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)"
      ]
    },
    {
      "cell_type": "code",
      "metadata": {
        "id": "hJ9D7xYJrD98"
      },
      "source": [
        "from sklearn import metrics\n",
        "print(metrics.classification_report(y_test,resultado))\n",
        "# Resultado do classification_report:\n",
        "# Acurácia: *indica uma performance geral do modelo. Dentre todas as classificações, quantas o modelo classificou corretamente;\n",
        "# Precisão: dentre todas as classificações de classe Positivo que o modelo fez, quantas estão corretas;\n",
        "# Recall/Revocação/Sensibilidade: *dentre todas as situações de classe Positivo como valor esperado, quantas estão corretas;\n",
        "# F1-Score: média harmônica entre precisão e recall."
      ],
      "execution_count": null,
      "outputs": []
    },
    {
      "cell_type": "code",
      "metadata": {
        "id": "bi5-L24brKQk"
      },
      "source": [
        "# Renderizando a árvore de forma gráfica:\n",
        "!pip install ipywidgets\n",
        "!pip3 install graphviz\n",
        "!pip3 install pydot\n",
        "import pydot\n",
        "import graphviz"
      ],
      "execution_count": null,
      "outputs": []
    },
    {
      "cell_type": "code",
      "metadata": {
        "id": "P0d2SypoymNz"
      },
      "source": [
        "dot_data = export_graphviz( \n",
        "         clf, \n",
        "         out_file=None,\n",
        "         feature_names=dfTree.drop('isRight',axis=1).columns,\n",
        "         class_names=['0','1'],  \n",
        "         filled=True, rounded=True,\n",
        "         proportion=True,\n",
        "         node_ids=True,\n",
        "         rotate=False,\n",
        "         label='all',\n",
        "         special_characters=True\n",
        "        )  \n",
        "graph = graphviz.Source(dot_data)  \n",
        "graph"
      ],
      "execution_count": null,
      "outputs": []
    },
    {
      "cell_type": "markdown",
      "metadata": {
        "id": "ljD4PElLsEHq"
      },
      "source": [
        "### **Como treinamos a árvore sem especificar nenhum parâmetro, ela cresceu de forma indefinida e ficou grande demais impossibilitando a visualização da mesma Agora vamos especificar alguns parâmetros e ver qual será o comportamento da árvore. **"
      ]
    },
    {
      "cell_type": "code",
      "metadata": {
        "id": "cXuXLvK9sADJ"
      },
      "source": [
        "# Renderizando a árvore de forma interativa:\n",
        "from ipywidgets import interactive\n",
        "from IPython.display import SVG,display\n",
        "from graphviz import Source\n",
        "\n",
        "# feature matrix\n",
        "X,y = dfTree.drop('isRight',axis=1),dfTree['isRight']\n",
        "\n",
        "# feature labels\n",
        "features_label = dfTree.drop('isRight',axis=1).columns\n",
        "\n",
        "# class label\n",
        "class_label = ['0','1']\n",
        "\n",
        "\n",
        "def plot_tree(crit, split, depth, min_samples_split, min_samples_leaf=0.2):\n",
        "    estimator = DecisionTreeClassifier(\n",
        "           random_state = 0 \n",
        "          ,criterion = crit\n",
        "          ,splitter = split\n",
        "          ,max_depth = depth\n",
        "          ,min_samples_split=min_samples_split\n",
        "          ,min_samples_leaf=min_samples_leaf\n",
        "    )\n",
        "    estimator.fit(X, y)\n",
        "    graph = Source(export_graphviz(estimator\n",
        "      , out_file=None\n",
        "      , feature_names=features_label\n",
        "      , class_names=class_label\n",
        "      , impurity=True\n",
        "      , filled = True))\n",
        "    display(SVG(graph.pipe(format='svg')))\n",
        "    return estimator\n",
        "\n",
        "inter=interactive(plot_tree \n",
        "   , crit = [\"gini\", \"entropy\"]\n",
        "   , split = [\"best\", \"random\"]\n",
        "   , depth=[1,2,3,4,5,10,20,30]\n",
        "   , min_samples_split=(1,5)\n",
        "   , min_samples_leaf=(1,5))\n",
        "\n",
        "display(inter)"
      ],
      "execution_count": null,
      "outputs": []
    },
    {
      "cell_type": "markdown",
      "metadata": {
        "id": "t7NOUHKrzjHM"
      },
      "source": [
        "##***Parâmetros do classificador DecisionTreeClassifier***\n",
        "\n",
        "##***criterion:*** medida de qualidade da divisão, aqui que definimos qual dessas métricas (Indice Gini, Entropia) iremos usar.\n",
        "\n",
        "##***splitter:*** estratégia utilizada para dividir o nó de decisão.\n",
        "\n",
        "##***max_depth:*** profundidade máxima da árvore.\n",
        "\n",
        "##***min_samples_split:*** número de amostras mínimas para considerar um nó para divisão.\n",
        "\n",
        "##***min_samples_leaf:*** número de amostras mínimas no nível folha. "
      ]
    },
    {
      "cell_type": "code",
      "metadata": {
        "id": "GFwVh7y-0SIC"
      },
      "source": [
        "dfTree.head(1)"
      ],
      "execution_count": null,
      "outputs": []
    },
    {
      "cell_type": "code",
      "metadata": {
        "id": "KSDxPQt8tv2U"
      },
      "source": [
        "# Visualizando as fronteiras criadas pela arvore:\n",
        "from mlxtend.plotting import plot_decision_regions\n",
        "import matplotlib.pyplot as plt\n",
        "\n",
        "def visualize_fronteiras(msamples_split,max_depth):\n",
        "    X = df[['tempoInteracao','task_Id']].values\n",
        "    y = df.isRight.values\n",
        "    clf = DecisionTreeClassifier(min_samples_split=msamples_split,max_depth=max_depth)\n",
        "    tree = clf.fit(X, y)\n",
        "\n",
        "    plt.figure(figsize=(16,9))\n",
        "    plot_decision_regions(X, y, clf=tree, legend=2)\n",
        "\n",
        "    plt.xlabel('tempoInteracao')\n",
        "    plt.ylabel('task_Id')\n",
        "    plt.title('Decision Tree')\n",
        "    plt.show()\n",
        "\n",
        "# Chamando a função criada anteriormente:\n",
        "# 0 quadrado 1 triângulo\n",
        "#2 amostras e 30 níveis de profundidade\n",
        "visualize_fronteiras(2,max_depth=30)"
      ],
      "execution_count": null,
      "outputs": []
    },
    {
      "cell_type": "markdown",
      "metadata": {
        "id": "C3rpgv2q1y_R"
      },
      "source": [
        ""
      ]
    },
    {
      "cell_type": "code",
      "metadata": {
        "id": "En_oHqK-0CVN"
      },
      "source": [
        "# Chamando a função criada anteriormente:\n",
        "# 0 quadrado 1 triângulo\n",
        "# 10 amostras e 8 níveis de profundidade\n",
        "#Já nesse exemplo o nó precisa ter no mínimo 10 amostras para divisão e o nível de profundidade da árvore é igual a 8,ou seja, estamos controlando de forma mais rígida o crescimento da nossa árvore.\n",
        "visualize_fronteiras(10,max_depth=8)"
      ],
      "execution_count": null,
      "outputs": []
    },
    {
      "cell_type": "markdown",
      "metadata": {
        "id": "e4s5VANg21Bg"
      },
      "source": [
        "## ***Visualizando o caminho que a árvore tomou para chegar em uma determinada decisão***"
      ]
    },
    {
      "cell_type": "code",
      "metadata": {
        "id": "89c6CKgf2nCU"
      },
      "source": [
        "#Navegando na estrutura da arvore de decisão:\n",
        "estimator = DecisionTreeClassifier(max_depth=3,min_samples_split=2,min_samples_leaf=2)\n",
        "estimator.fit(X, y)\n",
        "DecisionTreeClassifier(class_weight=None, criterion='gini', max_depth=3,\n",
        "                       max_features=None, max_leaf_nodes=None,\n",
        "                       min_impurity_decrease=0.0, min_impurity_split=None,\n",
        "                       min_samples_leaf=2, min_samples_split=2,\n",
        "                       min_weight_fraction_leaf=0.0, presort=False,\n",
        "                       random_state=None, splitter='best')\n",
        "n_nodes = estimator.tree_.node_count\n",
        "children_left = estimator.tree_.children_left\n",
        "children_right = estimator.tree_.children_right\n",
        "feature = estimator.tree_.feature\n",
        "threshold = estimator.tree_.threshold\n",
        "\n",
        "print(\"Número de nós: {}\".format(n_nodes))\n",
        "\n",
        "# O print nos retorna o resultado abaixo:\n"
      ],
      "execution_count": null,
      "outputs": []
    },
    {
      "cell_type": "code",
      "metadata": {
        "id": "8Zwqlv7v4u8F"
      },
      "source": [
        "node_depth = np.zeros(shape=n_nodes, dtype=np.int64)\n",
        "is_leaves = np.zeros(shape=n_nodes, dtype=bool)\n",
        "stack = [(0, -1)]\n",
        "while len(stack) > 0:\n",
        "    node_id, parent_depth = stack.pop()\n",
        "    node_depth[node_id] = parent_depth + 1\n",
        "\n",
        "    if (children_left[node_id] != children_right[node_id]):\n",
        "        stack.append((children_left[node_id], parent_depth + 1))\n",
        "        stack.append((children_right[node_id], parent_depth + 1))\n",
        "    else:\n",
        "        is_leaves[node_id] = True\n",
        "\n",
        "print(\"\\nA arvore binária tem %s nós e a seguinte estrutura: \\n\"\n",
        "      % n_nodes)\n",
        "for i in range(n_nodes):\n",
        "    if is_leaves[i]:\n",
        "        print(\"%snó=%s (nó folha).\" % (node_depth[i] * \"\\t\", i))\n",
        "    else:\n",
        "        print(\"%snó=%s (nó teste): vai para o nó %s se o valor do atributo %s <= %s \\n se não, vai para o \"\n",
        "              \"nó %s.\"\n",
        "              % (node_depth[i] * \"\\t\",\n",
        "                 i,\n",
        "                 children_left[i],\n",
        "                 dfTree.columns[feature[i]],\n",
        "                 threshold[i],\n",
        "                 children_right[i],\n",
        "                 ))"
      ],
      "execution_count": null,
      "outputs": []
    },
    {
      "cell_type": "markdown",
      "metadata": {
        "id": "qxhultgy5-x1"
      },
      "source": [
        "## ***Extraindo regras da arvore gerada a partir de uma determinada amostra dos dados***"
      ]
    },
    {
      "cell_type": "code",
      "metadata": {
        "id": "2PKU0kaw58gF"
      },
      "source": [
        "def extrai_regras(sample_id):\n",
        "    node_indicator = estimator.decision_path(X)\n",
        "\n",
        "    leave_id = estimator.apply(X)\n",
        "\n",
        "    #sample_id = sample\n",
        "    node_index = node_indicator.indices[node_indicator.indptr[sample_id]:\n",
        "                                        node_indicator.indptr[sample_id + 1]]\n",
        "\n",
        "    print('\\nFeatures usadas para predizer a amostra %s' % (sample_id))\n",
        "\n",
        "    for f,v in zip(dfTree.columns,X.iloc[sample_id].values):\n",
        "        print('%s = %s'%(f,v))\n",
        "\n",
        "    print('\\n')      \n",
        "    for node_id in node_index:\n",
        "        if leave_id[sample_id] == node_id:\n",
        "            continue\n",
        "\n",
        "        if (X.iloc[sample_id, feature[node_id]] <= threshold[node_id]):\n",
        "            threshold_sign = \"<=\"\n",
        "        else:\n",
        "            threshold_sign = \">\"\n",
        "\n",
        "        print(\"id do nó de decisão %s : (atributo %s com valor = %s %s %s)\"\n",
        "              % (node_id,\n",
        "                 dfTree.columns[feature[node_id]],\n",
        "                 X.iloc[sample_id, feature[node_id]],\n",
        "                 threshold_sign,\n",
        "                 threshold[node_id]))\n",
        "        \n",
        "    pred =estimator.predict(X.iloc[sample_id].values.reshape(1, -1))\n",
        "    print(pred) \n",
        "    print(\"\\tClasse => %s\" %pred)"
      ],
      "execution_count": null,
      "outputs": []
    },
    {
      "cell_type": "code",
      "metadata": {
        "id": "RQGJjpwCBnFA"
      },
      "source": [
        "print(metrics.classification_report(y_test,resultado))\n",
        "# Resultado do classification_report:\n",
        "# Acurácia: *indica uma performance geral do modelo. Dentre todas as classificações, quantas o modelo classificou corretamente;\n",
        "# Precisão: dentre todas as classificações de classe Positivo que o modelo fez, quantas estão corretas;\n",
        "# Recall/Revocação/Sensibilidade: *dentre todas as situações de classe Positivo como valor esperado, quantas estão corretas;\n",
        "# F1-Score: média harmônica entre precisão e recall."
      ],
      "execution_count": null,
      "outputs": []
    },
    {
      "cell_type": "code",
      "metadata": {
        "id": "XY3gbzM86GGx"
      },
      "source": [
        "#retorna uma amostra de acordo com a árvore treinada\n",
        "extrai_regras(1500)"
      ],
      "execution_count": null,
      "outputs": []
    },
    {
      "cell_type": "code",
      "metadata": {
        "id": "vCaBlJBP6vBn"
      },
      "source": [
        "dfTree.query('1500')"
      ],
      "execution_count": null,
      "outputs": []
    },
    {
      "cell_type": "code",
      "metadata": {
        "id": "lejnmNO_hep5"
      },
      "source": [
        "df_c = dfTree.corr(method='pearson')\n",
        "\n",
        "plt.figure(figsize=(8, 6))\n",
        "sns.heatmap(df_c, annot=True)\n",
        "plt.show()"
      ],
      "execution_count": null,
      "outputs": []
    },
    {
      "cell_type": "markdown",
      "metadata": {
        "id": "cDi4Qkrvh8-x"
      },
      "source": [
        ""
      ]
    },
    {
      "cell_type": "markdown",
      "metadata": {
        "id": "kMgnnN4RiWYt"
      },
      "source": [
        "#Algoritmo de agrupamento ***teste***"
      ]
    },
    {
      "cell_type": "code",
      "metadata": {
        "id": "lEeMDJU0iVQE"
      },
      "source": [
        "import numpy as np\n",
        "\n",
        "from sklearn.cluster import DBSCAN\n",
        "from sklearn import metrics\n",
        "from sklearn.datasets import make_blobs\n",
        "from sklearn.preprocessing import StandardScaler"
      ],
      "execution_count": null,
      "outputs": []
    },
    {
      "cell_type": "code",
      "metadata": {
        "id": "n0YC5UAe51Q3"
      },
      "source": [
        "# #############################################################################\n",
        "# Generate sample data\n",
        "centers = [[1, 1], [-1, -1], [1, -1]]\n",
        "X, labels_true = make_blobs(n_samples=750, centers=centers, cluster_std=0.4,\n",
        "                            random_state=0)\n",
        "\n",
        "X = StandardScaler().fit_transform(X)\n",
        "print(labels_true)\n"
      ],
      "execution_count": null,
      "outputs": []
    },
    {
      "cell_type": "code",
      "metadata": {
        "id": "cQvpwsjazHtV"
      },
      "source": [
        "# Carregando a base de dados:\n",
        "\n",
        "dfGroup = pd.read_csv('/content/drive/Shareddrives/Mineração de Dados/expFinal.csv',sep=';',na_values= '?')\n",
        "dfGroup.columns = [\"idUsrCrsExp\",\"userProfile_Id\",\"discriminator\",\"taskValidationDescription\",\"course_Id\",\"challenge_Id\",\"task_Id\",\"taskOrder\",\"ordemTsk\",\"isdone\",\"isRight\",\"startUsrCrsExp\",\"startValid\",\"tmpInicio\",\"tmpFim\",\"tempoInteracao\"]\n",
        "dfGroup.head()"
      ],
      "execution_count": null,
      "outputs": []
    },
    {
      "cell_type": "code",
      "metadata": {
        "id": "QqZztWzO10QP"
      },
      "source": [
        "dfGroup = dfGroup[[\"course_Id\",\"challenge_Id\",\"task_Id\",\"taskOrder\",\"isdone\",\"tempoInteracao\"]]\n",
        "dfGroup.head()"
      ],
      "execution_count": null,
      "outputs": []
    },
    {
      "cell_type": "code",
      "metadata": {
        "id": "QJI3dmIy25Tx"
      },
      "source": [
        ""
      ],
      "execution_count": null,
      "outputs": []
    },
    {
      "cell_type": "code",
      "metadata": {
        "id": "dQPXGQul6fI4"
      },
      "source": [
        "print(__doc__)\n",
        "\n",
        "import numpy as np\n",
        "\n",
        "from sklearn.cluster import DBSCAN\n",
        "from sklearn import metrics\n",
        "from sklearn.datasets import make_blobs\n",
        "from sklearn.preprocessing import StandardScaler\n",
        "\n",
        "\n",
        "# #############################################################################\n",
        "# Generate sample data\n",
        "centers = [[1, 1], [-1, -1], [1, -1],[-2,1]]\n",
        "X, labels_true = make_blobs(n_samples=200, centers=centers, cluster_std=0.4,\n",
        "                            random_state=0)\n",
        "\n",
        "X = StandardScaler().fit_transform(X)\n",
        "\n",
        "# #############################################################################\n",
        "# Compute DBSCAN\n",
        "db = DBSCAN(eps=0.3, min_samples=10).fit(X)\n",
        "core_samples_mask = np.zeros_like(db.labels_, dtype=bool)\n",
        "core_samples_mask[db.core_sample_indices_] = True\n",
        "labels = db.labels_\n",
        "\n",
        "# Number of clusters in labels, ignoring noise if present.\n",
        "n_clusters_ = len(set(labels)) - (1 if -1 in labels else 0)\n",
        "n_noise_ = list(labels).count(-1)\n",
        "\n",
        "print('Estimated number of clusters: %d' % n_clusters_)\n",
        "print('Estimated number of noise points: %d' % n_noise_)\n",
        "print(\"Homogeneity: %0.3f\" % metrics.homogeneity_score(labels_true, labels))\n",
        "print(\"Completeness: %0.3f\" % metrics.completeness_score(labels_true, labels))\n",
        "print(\"V-measure: %0.3f\" % metrics.v_measure_score(labels_true, labels))\n",
        "print(\"Adjusted Rand Index: %0.3f\"\n",
        "      % metrics.adjusted_rand_score(labels_true, labels))\n",
        "print(\"Adjusted Mutual Information: %0.3f\"\n",
        "      % metrics.adjusted_mutual_info_score(labels_true, labels))\n",
        "print(\"Silhouette Coefficient: %0.3f\"\n",
        "      % metrics.silhouette_score(X, labels))\n",
        "\n",
        "# #############################################################################\n",
        "# Plot result\n",
        "import matplotlib.pyplot as plt\n",
        "\n",
        "# Black removed and is used for noise instead.\n",
        "unique_labels = set(labels)\n",
        "colors = [plt.cm.Spectral(each)\n",
        "          for each in np.linspace(0, 1, len(unique_labels))]\n",
        "for k, col in zip(unique_labels, colors):\n",
        "    if k == -1:\n",
        "        # Black used for noise.\n",
        "        col = [0, 0, 0, 1]\n",
        "\n",
        "    class_member_mask = (labels == k)\n",
        "\n",
        "    xy = X[class_member_mask & core_samples_mask]\n",
        "    plt.plot(xy[:, 0], xy[:, 1], 'o', markerfacecolor=tuple(col),\n",
        "             markeredgecolor='k', markersize=14)\n",
        "\n",
        "    xy = X[class_member_mask & ~core_samples_mask]\n",
        "    plt.plot(xy[:, 0], xy[:, 1], 'o', markerfacecolor=tuple(col),\n",
        "             markeredgecolor='k', markersize=6)\n",
        "\n",
        "plt.title('Estimated number of clusters: %d' % n_clusters_)\n",
        "plt.show()"
      ],
      "execution_count": null,
      "outputs": []
    },
    {
      "cell_type": "markdown",
      "metadata": {
        "id": "2G_FWUluBI5X"
      },
      "source": [
        "#Teste"
      ]
    },
    {
      "cell_type": "code",
      "metadata": {
        "id": "bOHjvDXoBInk"
      },
      "source": [
        "import numpy as np\n",
        "import pandas as pd\n",
        "import matplotlib.pyplot as plt\n",
        "%matplotlib inline\n",
        "import scipy.cluster.hierarchy as shc\n",
        "from scipy.spatial.distance import squareform, pdist"
      ],
      "execution_count": null,
      "outputs": []
    },
    {
      "cell_type": "code",
      "metadata": {
        "id": "FKAUQlpNBO65"
      },
      "source": [
        "a = np.random.random_sample(size = 5)\n",
        "b = np.random.random_sample(size = 5)"
      ],
      "execution_count": null,
      "outputs": []
    },
    {
      "cell_type": "code",
      "metadata": {
        "id": "XnUDOMYnCAaj"
      },
      "source": [
        "point = ['P1','P2','P3','P4','P5']\n",
        "data = pd.DataFrame({'Point':point, 'a':np.round(a,2), 'b':np.round(b,2)})\n",
        "data = data.set_index('Point')\n",
        "data"
      ],
      "execution_count": null,
      "outputs": []
    },
    {
      "cell_type": "code",
      "metadata": {
        "id": "lUSc2bpwHuBW"
      },
      "source": [
        "dfGroup.head()"
      ],
      "execution_count": null,
      "outputs": []
    },
    {
      "cell_type": "code",
      "metadata": {
        "id": "_egjwUHgCsLS"
      },
      "source": [
        "plt.figure(figsize=(20,10))\n",
        "plt.scatter(dfGroup['course_Id'], dfGroup['challenge_Id'], c='r', marker='*')\n",
        "plt.xlabel('Column a')\n",
        "plt.ylabel('column b')\n",
        "plt.title('Scatter Plot of x and y')\n",
        "for j in data.itertuples():\n",
        "    plt.annotate(j.Index, (j.a, j.b), fontsize=15)"
      ],
      "execution_count": null,
      "outputs": []
    },
    {
      "cell_type": "code",
      "metadata": {
        "id": "I_TSOr5RIlFL"
      },
      "source": [
        "dist = pd.DataFrame(squareform(pdist(dfGroup[['course_Id', 'challenge_Id']]), 'euclidean'), columns=dfGroup.index.values, index=dfGroup.index.values)"
      ],
      "execution_count": null,
      "outputs": []
    }
  ]
}